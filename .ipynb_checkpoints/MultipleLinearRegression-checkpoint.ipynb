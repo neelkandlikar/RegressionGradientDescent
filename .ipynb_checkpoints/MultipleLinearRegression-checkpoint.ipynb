{
 "cells": [
  {
   "cell_type": "code",
   "execution_count": null,
   "metadata": {},
   "outputs": [],
   "source": [
    "import pandas as pd\n",
    "import numpy as np \n",
    "import matplotlib.pyplot as plt"
   ]
  },
  {
   "cell_type": "code",
   "execution_count": null,
   "metadata": {},
   "outputs": [],
   "source": [
    "#use multiple linear regression to predict the price of a home using its size and number of bedrooms in a particular city\n",
    "\n",
    "data = pd.read_csv(\"exdata2.txt\", header = None, names=[\"Size\", \"Bedrooms\", \"Price\"])\n",
    "\n",
    "#get columns of data\n",
    "X = data.iloc[:,0:2]\n",
    "Y = data.iloc[:,1]\n",
    "\n",
    "#number of training examples\n",
    "m = len(population)\n",
    "\n",
    "#To optmize at which gradient descent occurs, we must normalize the features as the size in square feet of the house\n",
    "#Is much larger than the number of bedrooms the house contains\n",
    "#We will standardize the features by taking their z-scores\n",
    "\n",
    "X = (X - np.mean(X))/np.std(X)\n",
    "\n"
   ]
  }
 ],
 "metadata": {
  "kernelspec": {
   "display_name": "Python 3",
   "language": "python",
   "name": "python3"
  },
  "language_info": {
   "codemirror_mode": {
    "name": "ipython",
    "version": 3
   },
   "file_extension": ".py",
   "mimetype": "text/x-python",
   "name": "python",
   "nbconvert_exporter": "python",
   "pygments_lexer": "ipython3",
   "version": "3.7.6"
  }
 },
 "nbformat": 4,
 "nbformat_minor": 2
}
