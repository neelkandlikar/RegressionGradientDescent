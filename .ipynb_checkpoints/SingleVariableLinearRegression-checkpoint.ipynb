{
 "cells": [
  {
   "cell_type": "code",
   "execution_count": 44,
   "metadata": {},
   "outputs": [],
   "source": [
    "import pandas as pd\n",
    "import numpy as np \n",
    "import matplotlib.pyplot as plt"
   ]
  },
  {
   "cell_type": "code",
   "execution_count": 45,
   "metadata": {},
   "outputs": [
    {
     "data": {
      "image/png": "[encoded data removed]",
      "text/plain": [
       "<Figure size 432x288 with 1 Axes>"
      ]
     },
     "metadata": {
      "needs_background": "light"
     },
     "output_type": "display_data"
    }
   ],
   "source": [
    "data = pd.read_csv(\"exdata1.txt\", header = None, names=[\"Population\", \"Profit\"])\n",
    "\n",
    "#get columns of data\n",
    "population = data.iloc[:,0]\n",
    "profit = data.iloc[:,1]\n",
    "\n",
    "#number of training examples\n",
    "m = len(population)\n",
    "plt.scatter(population,profit)\n",
    "\n",
    "#create plot\n",
    "plt.xlabel('Population of City in 10,000s')\n",
    "plt.ylabel('Profit in $10,000s')\n",
    "plt.show()\n",
    "\n",
    "#make the arrays into column vectors\n",
    "population = population[:,np.newaxis]\n",
    "profit = profit[:,np.newaxis]\n",
    "\n",
    "#maake a vector with 2 zeroes for the coeffecients\n",
    "#there are two coeffecients even though there is only one feature\n",
    "#theta for the constant will always be one\n",
    "thetas = np.zeros([2,1])\n",
    "\n",
    "iterations = 1500\n",
    "#learning rate \n",
    "alpha = 0.01\n",
    "\n",
    "#column vector with size of number of training examples\n",
    "ones = np.ones((m,1))\n",
    "\n",
    "#combines the two column vectors to create a an array of m rows and 2 columns\n",
    "population = np.hstack((ones,population))\n",
    "\n",
    "\n",
    "#cost function given by formula:\n",
    "# J(theta1, theta2) = (1/2m) * sum from 1 to m of (h(x)-y)^2\n",
    "def cost(population, profit, theta):\n",
    "    \n",
    "\n",
    "\n",
    "\n"
   ]
  }
 ],
 "metadata": {
  "kernelspec": {
   "display_name": "Python 3",
   "language": "python",
   "name": "python3"
  },
  "language_info": {
   "codemirror_mode": {
    "name": "ipython",
    "version": 3
   },
   "file_extension": ".py",
   "mimetype": "text/x-python",
   "name": "python",
   "nbconvert_exporter": "python",
   "pygments_lexer": "ipython3",
   "version": "3.7.6"
  }
 },
 "nbformat": 4,
 "nbformat_minor": 2
}
