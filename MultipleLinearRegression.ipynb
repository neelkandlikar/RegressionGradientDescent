{
 "cells": [
  {
   "cell_type": "code",
   "execution_count": 61,
   "metadata": {},
   "outputs": [],
   "source": [
    "import pandas as pd\n",
    "import numpy as np \n",
    "import matplotlib.pyplot as plt"
   ]
  },
  {
   "cell_type": "code",
   "execution_count": 62,
   "metadata": {},
   "outputs": [
    {
     "name": "stdout",
     "output_type": "stream",
     "text": [
      "Initial Cost 5.308510638297872\n",
      "Optimized Thetas\n",
      "\n",
      "[[3.17021187e+00]\n",
      " [5.04419199e-04]\n",
      " [7.52338390e-01]]\n",
      "\n",
      "Minimum Cost 1.1196179889375044e-07\n",
      "The function that best predicts the house prices in this particular city is price = 3.1702118667077364 + 0.000504419199131042 * number of bedrooms + 0.7523383898196618 * square foot area\n"
     ]
    }
   ],
   "source": [
    "#use multiple linear regression to predict the price of a home using its size and number of bedrooms in a particular city\n",
    "\n",
    "data = pd.read_csv(\"exdata2.txt\", header = None, names=[\"Size\", \"Bedrooms\", \"Price\"])\n",
    "\n",
    "#get columns of data\n",
    "X = data.iloc[:,0:2]\n",
    "y = data.iloc[:,1]\n",
    "\n",
    "#number of training examples\n",
    "m = len(X)\n",
    "\n",
    "#To optmize at which gradient descent occurs, we must normalize the features as the size in square feet of the house\n",
    "#Is much larger than the number of bedrooms the house contains\n",
    "#We will standardize the features by taking their z-scores\n",
    "X = (X - np.mean(X))/np.std(X)\n",
    "\n",
    "#maake a vector with 3 zeroes for the coeffecients\n",
    "#there are three coeffecients even though there are only two features\n",
    "#theta for the constant will always be one\n",
    "thetas = np.zeros([3,1])\n",
    "\n",
    "#make y 2d\n",
    "y = y[:,np.newaxis]\n",
    "\n",
    "\n",
    "#column vector with size of number of training examples\n",
    "ones = np.ones((m,1))\n",
    "#add ones as a column to X\n",
    "X = np.hstack((ones, X))\n",
    "\n",
    "#set alpha and the number of iterations\n",
    "alpha = 0.01\n",
    "iterations = 1500\n",
    "\n",
    "\n",
    "#make the array holding the prices of the houses into a column vector \n",
    "def cost(X, y, thetas):\n",
    "    #difference between expected and observed \n",
    "    difference = np.dot(X, thetas) - y\n",
    "    #square error and divide by 2m to find cost\n",
    "    #divide by m to make sure size of m doesn't affect cost\n",
    "    #divide by 2 for ease of differentiation as the 2 two in the power will reduce with the two in the denominator\n",
    "    return np.sum(np.power(difference, 2)) / (2*m)\n",
    "\n",
    "def gradientDescent(X, y, thetas, alpha, iterations):\n",
    "    m = len(y)\n",
    "    for i in range(iterations):\n",
    "        temp = np.dot(X, thetas) - y\n",
    "        #transpose X\n",
    "        temp = np.dot(X.T, temp)\n",
    "        thetas = thetas - (alpha/m) * temp\n",
    "    return thetas\n",
    "\n",
    "initial_cost = cost(X, y, thetas)\n",
    "print(\"Initial Cost \" + str(initial_cost))\n",
    "optimized_thetas = gradientDescent(X,y, thetas, alpha, iterations)\n",
    "print(\"Optimized Thetas\")\n",
    "print()\n",
    "print(optimized_thetas)\n",
    "print()\n",
    "minimum_cost = cost(X, y, optimized_thetas)\n",
    "print(\"Minimum Cost \" + str(minimum_cost))\n",
    "print(\"The function that best predicts the house prices in this particular city is price = \" + str(optimized_thetas[0,0]) + \" + \" +  str(optimized_thetas[1,0]) + \" * number of bedrooms + \" + str(optimized_thetas[2,0]) + \" * square foot area\" )\n"
   ]
  },
  {
   "cell_type": "markdown",
   "metadata": {},
   "source": [
    "![title](gradientDescent.jpg)"
   ]
  }
 ],
 "metadata": {
  "kernelspec": {
   "display_name": "Python 3",
   "language": "python",
   "name": "python3"
  },
  "language_info": {
   "codemirror_mode": {
    "name": "ipython",
    "version": 3
   },
   "file_extension": ".py",
   "mimetype": "text/x-python",
   "name": "python",
   "nbconvert_exporter": "python",
   "pygments_lexer": "ipython3",
   "version": "3.7.6"
  }
 },
 "nbformat": 4,
 "nbformat_minor": 2
}
